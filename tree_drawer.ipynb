{
 "cells": [
  {
   "cell_type": "code",
   "execution_count": 20,
   "metadata": {},
   "outputs": [],
   "source": [
    "import gc\n",
    "import psutil\n",
    "import time\n",
    "import numpy as np\n",
    "import matplotlib.pyplot as plt\n",
    "from rur import uri, uhmi, drawer, painter\n",
    "import copy\n",
    "\n",
    "from tree_utool import *\n",
    "from tree_root import Treebase"
   ]
  },
  {
   "cell_type": "markdown",
   "metadata": {},
   "source": [
    "# Select target"
   ]
  },
  {
   "cell_type": "code",
   "execution_count": 21,
   "metadata": {},
   "outputs": [
    {
     "name": "stdout",
     "output_type": "stream",
     "text": [
      "[y07206] 10 ~ 99\n",
      "[GalaxyMaker: y07206] ID=69, iout(istep)=99(90), logM=9.87\n"
     ]
    },
    {
     "data": {
      "text/plain": [
       "'[GalaxyMaker: y07206] ID=69, iout(istep)=99(90), logM=9.87'"
      ]
     },
     "execution_count": 21,
     "metadata": {},
     "output_type": "execute_result"
    }
   ],
   "source": [
    "# modes = [\\\n",
    "#     'y04466','y05420','y05427','y07206',\\\n",
    "#     'y10002','y17891','y24954','y29172',\\\n",
    "#     'y29176','y35663','y36413','y36415',\\\n",
    "#     'y39990','y49096'\\\n",
    "#         ]\n",
    "mode = 'y07206' # \n",
    "# mode = 'nh' # \n",
    "repo, rurmode = mode2repo(mode)\n",
    "\n",
    "galaxy=True\n",
    "nout = load_nout(mode, galaxy=galaxy)\n",
    "\n",
    "prefix = f\"[{mode}]\"\n",
    "print(f\"{prefix} {nout[-1]} ~ {nout[0]}\")\n",
    "\n",
    "iout = np.max(nout)\n",
    "uri.timer.verbose = 0\n",
    "snap_now = uri.RamsesSnapshot(repo, iout, path_in_repo='snapshots', mode=rurmode )\n",
    "gals_now = uhmi.HaloMaker.load(snap_now, galaxy=True)\n",
    "# snap_now.clear()\n",
    "\n",
    "# 69, 93, 105, 124, 133, 138, 166, 172, 188\n",
    "target = gals_now[69-1]\n",
    "# gals_now = gals_now[gals_now['m']>1e10]\n",
    "# target = gals_now[np.random.randint(0, len(gals_now)-1, 1)][0]\n",
    "printgal(target, mode=mode, nout=nout)\n",
    "# fname = f\"Branch_{mode}_{target['id']:05d}.pickle\"\n",
    "# if not os.path.isfile(f\"./data/{fname}\"):\n",
    "#     raise ValueError(f\"cannot found {fname}\")"
   ]
  },
  {
   "cell_type": "markdown",
   "metadata": {},
   "source": [
    "# Load TreeMaker"
   ]
  },
  {
   "cell_type": "markdown",
   "metadata": {},
   "source": [
    "## Functions"
   ]
  },
  {
   "cell_type": "code",
   "execution_count": 22,
   "metadata": {},
   "outputs": [],
   "source": [
    "def tm_return_fat(target, usefat2=False):\n",
    "    fat = target['fat1']\n",
    "    if fat > 0:\n",
    "        return fat\n",
    "    elif usefat2:\n",
    "        fat = target['fat2']\n",
    "        if fat > 0:\n",
    "            return fat\n",
    "        else:\n",
    "            return None\n",
    "\n",
    "def tm_return_branch(target, tm=None, usefat2=False, galaxy=True, mode='hagn'):\n",
    "    minstep, maxstep = np.min(tm['timestep']), np.max(tm['timestep'])\n",
    "    nout = load_nout(mode, galaxy=galaxy)\n",
    "    nstep = load_nstep(mode, galaxy=galaxy, nout=nout)\n",
    "    if 'nparts' in target.dtype.names:\n",
    "        iout, istep = ioutistep(target, galaxy=galaxy, mode=mode, nout=load_nout(mode, galaxy=galaxy))\n",
    "        offset = maxstep - np.max(nstep)\n",
    "        target = loadgals(istep+offset, target['id'], tm=tm)\n",
    "    # printgal(target, mode=mode, nout=load_nout(mode, galaxy=galaxy))\n",
    "    istep = target['timestep']\n",
    "    leng = istep - minstep\n",
    "    fat = tm_return_fat(target, usefat2=usefat2)\n",
    "    if fat is None:\n",
    "        print(f\"no single father\")\n",
    "        return np.atleast_1d(target)\n",
    "    branch = target\n",
    "    for i in range(leng):\n",
    "        igal = loadgals(istep-1-i, fat, tm=tm)\n",
    "        branch = np.hstack((branch, igal))\n",
    "        fat = tm_return_fat(igal, usefat2=usefat2)\n",
    "        if fat is None:\n",
    "            if istep-i-1 > 1:\n",
    "                print(f\"broken at step={istep-i-1}\")\n",
    "            return branch\n",
    "    return branch\n",
    "\n",
    "def loadgals(istep, galid, tm=None):\n",
    "    ind = (tm['timestep']==istep)&(tm['id']==galid)\n",
    "    return tm[ind][0]"
   ]
  },
  {
   "cell_type": "code",
   "execution_count": 23,
   "metadata": {},
   "outputs": [
    {
     "name": "stdout",
     "output_type": "stream",
     "text": [
      "Reading /storage3/Clusters/07206/GalaxyMaker/gal/tree.dat... \n",
      "Took 0.216s\n",
      "Building table for 19 nodes...  Number of steps found:         168\n",
      " Total number of halos:       78040\n",
      "Progress: >>>>>>>>>>>>>>>>>>>>>>>>>>>>>>>>>>>>>>>>>>>>>>>>>>>>>>>> - Done!\n",
      "Took 0.024s\n"
     ]
    }
   ],
   "source": [
    "tm = uhmi.TreeMaker.load(snap_now,galaxy=True)\n",
    "TMbranch = tm_return_branch(target, tm=tm, galaxy=galaxy, mode=mode)"
   ]
  },
  {
   "cell_type": "markdown",
   "metadata": {},
   "source": [
    "# Load Ptree"
   ]
  },
  {
   "cell_type": "markdown",
   "metadata": {},
   "source": [
    "## Functions"
   ]
  },
  {
   "cell_type": "code",
   "execution_count": 24,
   "metadata": {},
   "outputs": [],
   "source": [
    "def pt_return_branch(target, pt=None, leng=None):\n",
    "    instpt = pt[pt['timestep']==target['timestep']]\n",
    "    # ind = (pt['hmid']==target['id'])&(pt['timestep']==target['timestep'])\n",
    "    igal = instpt[instpt['hmid']==target['id']][0]\n",
    "    # igal = pt[ind][0]\n",
    "    branch = igal\n",
    "    i = 1\n",
    "    while igal['fat']>0:\n",
    "        igal = pt[pt['id']==igal['fat']][0]\n",
    "        branch = np.hstack((branch, igal))\n",
    "        i +=1\n",
    "        if leng is not None:\n",
    "            if i>=leng:\n",
    "                break\n",
    "    return branch"
   ]
  },
  {
   "cell_type": "code",
   "execution_count": 25,
   "metadata": {},
   "outputs": [],
   "source": [
    "pt = pklload(f\"{repo}/ptree/ptree_stable.pkl\")\n",
    "PTbranch = pt_return_branch(target, pt=pt, leng=100)"
   ]
  },
  {
   "cell_type": "markdown",
   "metadata": {},
   "source": [
    "# Load YoungTree"
   ]
  },
  {
   "cell_type": "markdown",
   "metadata": {},
   "source": [
    "## Functions"
   ]
  },
  {
   "cell_type": "code",
   "execution_count": 26,
   "metadata": {},
   "outputs": [],
   "source": [
    "readme,root, t_elapsed, YTbranch, scores = pklload(f\"./data/Branch_{mode}_{target['id']:05d}.pickle\")\n",
    "YTbranch = np.hstack([val for val in YTbranch.values()])"
   ]
  },
  {
   "cell_type": "markdown",
   "metadata": {},
   "source": [
    "# Compare"
   ]
  },
  {
   "cell_type": "code",
   "execution_count": 29,
   "metadata": {},
   "outputs": [
    {
     "data": {
      "image/png": "[encoded data removed]",
      "text/plain": [
       "<Figure size 864x576 with 1 Axes>"
      ]
     },
     "metadata": {},
     "output_type": "display_data"
    }
   ],
   "source": [
    "fig, ax = plt.subplots(figsize=(6,4))\n",
    "\n",
    "\n",
    "ax.scatter(TMbranch['timestep']-168+187, TMbranch['m'], color='black', label='TreeMaker', marker='o', alpha=0.5)\n",
    "ax.scatter(PTbranch['timestep'], PTbranch['m'], color='red', label='Ptree', marker='+', alpha=0.5)\n",
    "ax.plot(YTbranch['timestep'], YTbranch['m'], color='magenta', label='YoungTree', marker='x', alpha=0.5)\n",
    "\n",
    "ax.set_yscale(\"log\")\n",
    "ax.legend()\n",
    "\n",
    "ax.set_ylabel(\"$M_{*} / M_{\\odot}$\")\n",
    "ax.set_xlabel(\"iout\")\n",
    "fig.set_facecolor(\"white\")\n",
    "fig.set_dpi(144)"
   ]
  },
  {
   "cell_type": "code",
   "execution_count": 28,
   "metadata": {},
   "outputs": [
    {
     "name": "stdout",
     "output_type": "stream",
     "text": [
      "[GalaxyMaker: y07206] ID=69, iout(istep)=99(90), logM=9.87\n"
     ]
    },
    {
     "data": {
      "text/plain": [
       "'[GalaxyMaker: y07206] ID=69, iout(istep)=99(90), logM=9.87'"
      ]
     },
     "execution_count": 28,
     "metadata": {},
     "output_type": "execute_result"
    }
   ],
   "source": [
    "printgal(target, mode=mode)"
   ]
  },
  {
   "cell_type": "markdown",
   "metadata": {},
   "source": [
    "225, 10, 33"
   ]
  },
  {
   "cell_type": "markdown",
   "metadata": {},
   "source": [
    "# Draw"
   ]
  },
  {
   "cell_type": "code",
   "execution_count": 42,
   "metadata": {},
   "outputs": [],
   "source": [
    "center = target\n",
    "# center = YTbranch[52]\n",
    "# center"
   ]
  },
  {
   "cell_type": "code",
   "execution_count": 45,
   "metadata": {},
   "outputs": [
    {
     "name": "stdout",
     "output_type": "stream",
     "text": [
      "Computing particle map of 2324834 particles... \n",
      "Done (0.129s).\n",
      "Computing particle map of 2331711 particles... \n",
      "Done (0.149s).\n",
      "Computing particle map of 2341988 particles... \n",
      "Done (0.138s).\n",
      "Computing particle map of 2374174 particles... \n",
      "Done (0.128s).\n",
      "Computing particle map of 2376799 particles... \n",
      "Done (0.142s).\n",
      "Computing particle map of 2387503 particles... \n",
      "Done (0.133s).\n",
      "Computing particle map of 2392047 particles... \n",
      "Done (0.142s).\n",
      "Computing particle map of 2407750 particles... \n",
      "Done (0.130s).\n",
      "Computing particle map of 2411214 particles... \n",
      "Done (0.142s).\n",
      "Computing particle map of 2422092 particles... \n",
      "Done (0.135s).\n",
      "Computing particle map of 2422745 particles... \n",
      "Done (0.145s).\n",
      "Computing particle map of 2398537 particles... \n",
      "Done (0.130s).\n",
      "Computing particle map of 2393934 particles... \n",
      "Done (0.137s).\n",
      "Computing particle map of 2368839 particles... \n",
      "Done (0.137s).\n",
      "Computing particle map of 2338565 particles... \n",
      "Done (0.139s).\n",
      "Computing particle map of 2333312 particles... \n",
      "Done (0.124s).\n",
      "Computing particle map of 2415735 particles... \n",
      "Done (0.136s).\n",
      "Computing particle map of 2361639 particles... \n",
      "Done (0.141s).\n",
      "Computing particle map of 2363801 particles... \n",
      "Done (0.125s).\n",
      "Computing particle map of 2368137 particles... \n",
      "Done (0.135s).\n",
      "Computing particle map of 2341207 particles... \n",
      "Done (0.140s).\n",
      "Computing particle map of 2322008 particles... \n",
      "Done (0.131s).\n",
      "Computing particle map of 2285734 particles... \n",
      "Done (0.131s).\n",
      "Computing particle map of 2232253 particles... \n",
      "Done (0.128s).\n"
     ]
    },
    {
     "ename": "KeyboardInterrupt",
     "evalue": "",
     "output_type": "error",
     "traceback": [
      "\u001b[0;31m---------------------------------------------------------------------------\u001b[0m",
      "\u001b[0;31mKeyboardInterrupt\u001b[0m                         Traceback (most recent call last)",
      "\u001b[1;32m/home/jeon/YoungTree/tree_drawer.ipynb Cell 21\u001b[0m in \u001b[0;36m<cell line: 9>\u001b[0;34m()\u001b[0m\n\u001b[1;32m     <a href='vscode-notebook-cell://ssh-remote%2B165.132.29.253/home/jeon/YoungTree/tree_drawer.ipynb#Y100sdnNjb2RlLXJlbW90ZQ%3D%3D?line=15'>16</a>\u001b[0m x1, x2 \u001b[39m=\u001b[39m snap\u001b[39m.\u001b[39mbox[\u001b[39m0\u001b[39m][\u001b[39m0\u001b[39m], snap\u001b[39m.\u001b[39mbox[\u001b[39m0\u001b[39m][\u001b[39m1\u001b[39m]\n\u001b[1;32m     <a href='vscode-notebook-cell://ssh-remote%2B165.132.29.253/home/jeon/YoungTree/tree_drawer.ipynb#Y100sdnNjb2RlLXJlbW90ZQ%3D%3D?line=16'>17</a>\u001b[0m y1, y2 \u001b[39m=\u001b[39m snap\u001b[39m.\u001b[39mbox[\u001b[39m1\u001b[39m][\u001b[39m0\u001b[39m], snap\u001b[39m.\u001b[39mbox[\u001b[39m1\u001b[39m][\u001b[39m1\u001b[39m]\n\u001b[0;32m---> <a href='vscode-notebook-cell://ssh-remote%2B165.132.29.253/home/jeon/YoungTree/tree_drawer.ipynb#Y100sdnNjb2RlLXJlbW90ZQ%3D%3D?line=17'>18</a>\u001b[0m snap\u001b[39m.\u001b[39;49mget_part()\n\u001b[1;32m     <a href='vscode-notebook-cell://ssh-remote%2B165.132.29.253/home/jeon/YoungTree/tree_drawer.ipynb#Y100sdnNjb2RlLXJlbW90ZQ%3D%3D?line=18'>19</a>\u001b[0m \u001b[39m# snap.get_cell()\u001b[39;00m\n\u001b[1;32m     <a href='vscode-notebook-cell://ssh-remote%2B165.132.29.253/home/jeon/YoungTree/tree_drawer.ipynb#Y100sdnNjb2RlLXJlbW90ZQ%3D%3D?line=20'>21</a>\u001b[0m fig, axes \u001b[39m=\u001b[39m plt\u001b[39m.\u001b[39msubplots(ncols\u001b[39m=\u001b[39m\u001b[39m2\u001b[39m,figsize\u001b[39m=\u001b[39m(\u001b[39m12\u001b[39m,\u001b[39m6\u001b[39m))\n",
      "File \u001b[0;32m~/rur/rur/uri.py:895\u001b[0m, in \u001b[0;36mRamsesSnapshot.get_part\u001b[0;34m(self, box, target_fields, domain_slicing, exact_box, cpulist)\u001b[0m\n\u001b[1;32m    893\u001b[0m     domain_slicing \u001b[39m=\u001b[39m \u001b[39mTrue\u001b[39;00m\n\u001b[1;32m    894\u001b[0m     exact_box \u001b[39m=\u001b[39m \u001b[39mFalse\u001b[39;00m\n\u001b[0;32m--> 895\u001b[0m \u001b[39mself\u001b[39;49m\u001b[39m.\u001b[39;49mread_part(target_fields\u001b[39m=\u001b[39;49mtarget_fields, cpulist\u001b[39m=\u001b[39;49mcpulist)\n\u001b[1;32m    896\u001b[0m \u001b[39mif\u001b[39;00m(domain_slicing):\n\u001b[1;32m    897\u001b[0m     part \u001b[39m=\u001b[39m domain_slice(\u001b[39mself\u001b[39m\u001b[39m.\u001b[39mpart_data, cpulist, \u001b[39mself\u001b[39m\u001b[39m.\u001b[39mcpulist_part, \u001b[39mself\u001b[39m\u001b[39m.\u001b[39mbound_part)\n",
      "File \u001b[0;32m~/rur/rur/uri.py:401\u001b[0m, in \u001b[0;36mRamsesSnapshot.read_part\u001b[0;34m(self, target_fields, cpulist)\u001b[0m\n\u001b[1;32m    399\u001b[0m \u001b[39mif\u001b[39;00m mode \u001b[39m==\u001b[39m \u001b[39m'\u001b[39m\u001b[39mnc\u001b[39m\u001b[39m'\u001b[39m:\n\u001b[1;32m    400\u001b[0m     mode \u001b[39m=\u001b[39m \u001b[39m'\u001b[39m\u001b[39my4\u001b[39m\u001b[39m'\u001b[39m\n\u001b[0;32m--> 401\u001b[0m readr\u001b[39m.\u001b[39;49mread_part(\u001b[39mself\u001b[39;49m\u001b[39m.\u001b[39;49msnap_path, \u001b[39mself\u001b[39;49m\u001b[39m.\u001b[39;49miout, cpulist, mode, progress_bar, \u001b[39mself\u001b[39;49m\u001b[39m.\u001b[39;49mlongint)\n\u001b[1;32m    402\u001b[0m timer\u001b[39m.\u001b[39mrecord()\n\u001b[1;32m    404\u001b[0m timer\u001b[39m.\u001b[39mstart(\u001b[39m'\u001b[39m\u001b[39mBuilding table for \u001b[39m\u001b[39m%d\u001b[39;00m\u001b[39m particles... \u001b[39m\u001b[39m'\u001b[39m \u001b[39m%\u001b[39m readr\u001b[39m.\u001b[39minteger_table\u001b[39m.\u001b[39mshape[\u001b[39m1\u001b[39m], \u001b[39m1\u001b[39m)\n",
      "\u001b[0;31mKeyboardInterrupt\u001b[0m: "
     ]
    }
   ],
   "source": [
    "offset = np.max(nout)-np.max(TMbranch['timestep'])\n",
    "uri.timer.verbose=0\n",
    "snap = uri.RamsesSnapshot(repo, center['timestep'], mode='yzics')\n",
    "gm, gmpid = uhmi.HaloMaker.load(snap, galaxy=galaxy, load_parts=True)\n",
    "cumparts = np.insert(np.cumsum(gm[\"nparts\"]), 0, 0)\n",
    "gmpid = [gmpid[ cumparts[i]:cumparts[i+1] ] for i in range(len(gm))]\n",
    "gmpid = copy.deepcopy(gmpid)\n",
    "inipart = gmpid[center['id']-1]\n",
    "for iout in nout[nout<=center['timestep']]:\n",
    "    snap = uri.RamsesSnapshot(repo, iout, mode='yzics')\n",
    "    snap.set_box_halo(center, radius=30)\n",
    "    snap.box[0] -= center['rvir']*20\n",
    "    # snap.box[1] -= center['rvir']*10\n",
    "    snap.box[2][0] -= 0.01\n",
    "    snap.box[2][1] += 0.01\n",
    "    x1, x2 = snap.box[0][0], snap.box[0][1]\n",
    "    y1, y2 = snap.box[1][0], snap.box[1][1]\n",
    "    snap.get_part()\n",
    "    # snap.get_cell()\n",
    "\n",
    "    fig, axes = plt.subplots(ncols=2,figsize=(12,6))\n",
    "    fig.set_dpi(144)\n",
    "    ax = axes[0]\n",
    "    ax.xaxis.set_visible(False)\n",
    "    ax.yaxis.set_visible(False)\n",
    "\n",
    "    \n",
    "    ax.scatter(snap.part['star']['x'], snap.part['star']['y'],s=0.1,alpha=0.1)\n",
    "    isin = large_isin(np.abs(snap.part['star']['id']), inipart)\n",
    "    ax.scatter(snap.part['star']['x'][isin], snap.part['star']['y'][isin],s=0.1,alpha=0.3)\n",
    "    \n",
    "    if iout-offset in TMbranch['timestep']:\n",
    "        galtm = TMbranch[TMbranch['timestep'] == iout-offset][0]\n",
    "        cir = plt.Circle((galtm['x'], galtm['y']), galtm['r'], edgecolor='black', facecolor='none', label=f'TreeMaker (ID={galtm[\"id\"]}, logM={np.log10(galtm[\"m\"]):.2f})')\n",
    "        ax.add_artist(cir)\n",
    "    if iout in PTbranch['timestep']:\n",
    "        galpt = PTbranch[PTbranch['timestep'] == iout][0]\n",
    "        cir = plt.Circle((galpt['x'], galpt['y']), galpt['r'], edgecolor='red', facecolor='none', label=f'PTree (ID={galpt[\"hmid\"]}, logM={np.log10(galpt[\"m\"]):.2f})')\n",
    "        ax.add_artist(cir)\n",
    "    if iout in YTbranch['timestep']:\n",
    "        galyt = YTbranch[YTbranch['timestep'] == iout][0]\n",
    "        cir = plt.Circle((galyt['x'], galyt['y']), galyt['r'], edgecolor='magenta', facecolor='none', label=f'YoungTree (ID={galyt[\"id\"]}, logM={np.log10(galyt[\"m\"]):.2f})')\n",
    "        ax.add_artist(cir)\n",
    "    ax.legend(loc='upper right')\n",
    "    ax.set_xlim(x1,x2)\n",
    "    ax.set_ylim(y1,y2)\n",
    "\n",
    "    ax = axes[1]\n",
    "    ax.xaxis.set_visible(False)\n",
    "    ax.yaxis.set_visible(False)\n",
    "    partimg = painter.partmap(snap.part['star'], shape=240)\n",
    "    # cellimg = painter.gasmap(snap.cell, shape=240)\n",
    "    # combimg = painter.composite_image([partimg, cellimg], cmaps=[plt.cm.gray, plt.cm.copper], qscales=[3,3],mode='multiply')\n",
    "    # ax.imshow(combimg, origin='lower')\n",
    "    ax.imshow(partimg, origin='lower', cmap=plt.cm.magma, extent=[x1,x2,y1,y2])\n",
    "    ax.text(0.05, 0.95, f\"iout={snap.iout}\\nz={snap.params['z']:.2f} ({snap.params['age']:.2f} Gyr)\", ha='left', va='top', transform=ax.transAxes, color='white', fontsize=16)\n",
    "\n",
    "    snap.clear()\n",
    "    plt.subplots_adjust(wspace=0)\n",
    "    plt.savefig(f\"{iout:03d}.png\", dpi=144, bbox_inches='tight',pad_inches = 0)\n",
    "    plt.close()\n",
    "    \n",
    "    \n",
    "    \n",
    "    "
   ]
  }
 ],
 "metadata": {
  "kernelspec": {
   "display_name": "Python 3.10.4 ('jeonpy': conda)",
   "language": "python",
   "name": "python3"
  },
  "language_info": {
   "codemirror_mode": {
    "name": "ipython",
    "version": 3
   },
   "file_extension": ".py",
   "mimetype": "text/x-python",
   "name": "python",
   "nbconvert_exporter": "python",
   "pygments_lexer": "ipython3",
   "version": "3.10.4"
  },
  "orig_nbformat": 4,
  "vscode": {
   "interpreter": {
    "hash": "928fe3b0bf83d1446d29d898280f37d3e1faf7b4f2cfa3ce909854a28f42a301"
   }
  }
 },
 "nbformat": 4,
 "nbformat_minor": 2
}
