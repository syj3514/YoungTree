{
 "cells": [
  {
   "cell_type": "code",
   "execution_count": 2,
   "metadata": {},
   "outputs": [],
   "source": [
    "from rur import uri, uhmi\n",
    "from rur.sci import photometry\n",
    "\n",
    "import numpy as np\n",
    "from tqdm import tqdm\n",
    "\n",
    "import time\n",
    "from tree_utool import *"
   ]
  },
  {
   "cell_type": "code",
   "execution_count": 3,
   "metadata": {},
   "outputs": [
    {
     "name": "stdout",
     "output_type": "stream",
     "text": [
      "Age of the universe (now/z=0): 13.741 / 13.741 Gyr, z = -0.00000 (a = 1.0000)\n",
      "1289\n",
      "1289\n"
     ]
    }
   ],
   "source": [
    "modes = ['y07206', 'y05420']\n",
    "mode = modes[1]\n",
    "\n",
    "repo, rurmode, dp = mode2repo(mode)\n",
    "nout = load_nout(mode=mode, galaxy=True)\n",
    "nstep = load_nstep(mode=mode, galaxy=True, nout=nout)\n",
    "iout = nout[0]\n",
    "snap = uri.RamsesSnapshot(repo, iout, mode=rurmode)\n",
    "gals = uhmi.HaloMaker.load(snap, galaxy=True, double_precision=dp)\n",
    "print(len(gals))\n",
    "\n",
    "path = f\"/home/jeon/YoungTree/result/{mode}\"\n",
    "file_list = os.listdir(path)\n",
    "file_list = [file for file in file_list if (file.startswith(f\"Progenitor_Branch\") & file.endswith(\".pickle\"))]\n",
    "print(len(file_list))"
   ]
  },
  {
   "cell_type": "code",
   "execution_count": 5,
   "metadata": {},
   "outputs": [],
   "source": [
    "assert len(gals)==len(file_list)"
   ]
  },
  {
   "cell_type": "code",
   "execution_count": 6,
   "metadata": {},
   "outputs": [
    {
     "name": "stdout",
     "output_type": "stream",
     "text": [
      "186241\n"
     ]
    }
   ],
   "source": [
    "dtype = [(\"rootid\", int), (\"rootiout\", int), (\"id\", int), (\"timestep\", int), (\"score\", float), (\"elapsed\", float)]\n",
    "first = True\n",
    "for gal in gals:\n",
    "    readme, root, elap, branch, scores = pklload(f'/home/jeon/YoungTree/result/{mode}/Progenitor_Branch_ID{gal[\"id\"]:05d}_iout{iout:05d}.pickle')\n",
    "\n",
    "    outs = list( branch.keys() )\n",
    "    ntree = len(outs)\n",
    "    rootids = np.full(ntree, root['id'], dtype=int)\n",
    "    rootiouts = np.full(ntree, root['timestep'], dtype=int)\n",
    "    elapseds = np.full(ntree, elap, dtype=float)\n",
    "    \n",
    "    ids = np.array( [branch[ith]['id'] for ith in outs] )\n",
    "    timesteps = np.array( [branch[ith]['timestep'] for ith in outs] )\n",
    "    scores = np.array( [scores[ith] for ith in outs] )\n",
    "    if first:\n",
    "        result = np.rec.fromarrays((rootids, rootiouts, ids, timesteps, scores, elapseds), dtype=dtype)\n",
    "        first = False\n",
    "    else:\n",
    "        result = np.hstack((result, np.rec.fromarrays((rootids, rootiouts, ids, timesteps, scores, elapseds), dtype=dtype)))\n",
    "print(len(result))"
   ]
  },
  {
   "cell_type": "code",
   "execution_count": 8,
   "metadata": {},
   "outputs": [],
   "source": [
    "if not os.path.isdir(f\"{repo}/YoungTree\"):\n",
    "    os.mkdir(f\"{repo}/YoungTree\")\n",
    "readme = \"README:\\n    1) Root galaxy ID\\n    2) Root galaxy iout\\n    3) Galaxy ID\\n    4) Galaxy iout\\n    5) Score\\n    6) Elapsed computing time\"\n",
    "pklsave((readme, result), f\"{repo}/YoungTree/ytree.pickle\")"
   ]
  },
  {
   "cell_type": "code",
   "execution_count": null,
   "metadata": {},
   "outputs": [],
   "source": []
  }
 ],
 "metadata": {
  "kernelspec": {
   "display_name": "Python 3.9.12 ('jeonpy': conda)",
   "language": "python",
   "name": "python3"
  },
  "language_info": {
   "codemirror_mode": {
    "name": "ipython",
    "version": 3
   },
   "file_extension": ".py",
   "mimetype": "text/x-python",
   "name": "python",
   "nbconvert_exporter": "python",
   "pygments_lexer": "ipython3",
   "version": "3.10.4"
  },
  "orig_nbformat": 4,
  "vscode": {
   "interpreter": {
    "hash": "928fe3b0bf83d1446d29d898280f37d3e1faf7b4f2cfa3ce909854a28f42a301"
   }
  }
 },
 "nbformat": 4,
 "nbformat_minor": 2
}
