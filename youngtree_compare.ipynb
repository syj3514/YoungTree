{
 "cells": [
  {
   "cell_type": "code",
   "execution_count": 3,
   "metadata": {},
   "outputs": [
    {
     "data": {
      "text/plain": [
       "0"
      ]
     },
     "execution_count": 3,
     "metadata": {},
     "output_type": "execute_result"
    }
   ],
   "source": [
    "import numpy as np\n",
    "import matplotlib.pyplot as plt\n",
    "import sys\n",
    "if not \"/home/jeon/jeonpkg\" in sys.path:\n",
    "    sys.path.append(\"/home/jeon/jeonpkg\")\n",
    "    print(\"/home/jeon/jeonpkg update\")\n",
    "from importlib import reload\n",
    "import jeon as jn\n",
    "import jfiles as jf\n",
    "import jplots as jp\n",
    "from rur import uri, uhmi, painter, drawer\n",
    "\n",
    "import os\n",
    "# from rur import uri, uhmi, painter\n",
    "import time\n",
    "from matplotlib.ticker import MultipleLocator\n",
    "import gc\n",
    "\n",
    "from tree_utool import *\n",
    "gc.collect()"
   ]
  },
  {
   "cell_type": "code",
   "execution_count": 2,
   "metadata": {},
   "outputs": [],
   "source": [
    "def return_fat(target, usefat2=False):\n",
    "    fat = target['fat1']\n",
    "    if fat > 0:\n",
    "        return fat\n",
    "    if usefat2:\n",
    "        fat = target['fat2']\n",
    "        if fat > 0:\n",
    "            return fat\n",
    "        else:\n",
    "            return None\n",
    "\n",
    "def return_branch(target, tm=None, usefat2=False):\n",
    "    if 'nparts' in target.dtype.names:\n",
    "        iout, istep = jn.ioutistep(target, galaxy=True, mode=mode)\n",
    "        target = tm.loadgals(istep, target['id'])\n",
    "    istep = target['timestep']\n",
    "    leng = istep - np.min( list(tm.dat.keys()) )\n",
    "    fat = return_fat(target, usefat2=usefat2)\n",
    "    if fat is None:\n",
    "        # print(f\"broken at step={istep}\")\n",
    "        return np.atleast_1d(target)\n",
    "    branch = target\n",
    "    for i in range(leng):\n",
    "        igal = tm.loadgals(istep-1-i, fat)\n",
    "        branch = np.hstack((branch, igal))\n",
    "        fat = return_fat(igal, usefat2=usefat2)\n",
    "        if fat is None:\n",
    "            # if istep-i-1 > 1:\n",
    "                # print(f\"broken at step={istep-i-1}\")\n",
    "            return branch\n",
    "    return branch"
   ]
  },
  {
   "cell_type": "code",
   "execution_count": 6,
   "metadata": {},
   "outputs": [
    {
     "name": "stdout",
     "output_type": "stream",
     "text": [
      "792\n"
     ]
    }
   ],
   "source": [
    "# modes = ['y07206', 'y04466', 'y10002']\n",
    "# mode = modes[0]\n",
    "mode = 'nh'\n",
    "# nout, nstep, zred, aexp, gyr = jn.pklload(f'/storage6/jeon/data/{mode}/{mode}_nout_nstep_zred_aexp_gyr.pickle')\n",
    "nout = load_nout(mode=mode, galaxy=True)\n",
    "nstep = load_nstep(mode=mode, galaxy=True, nout=nout)\n",
    "print(nstep[0])\n",
    "# repo = f'/storage3/Clusters/{mode[1:]}'\n",
    "repo = f\"/storage6/NewHorizon\"\n",
    "# TreeMaker\n",
    "# tm = jn.pklload(f\"/storage6/jeon/data/{mode}/tm/{mode}_TreeMaker.pickle\")\n",
    "# galtm = jn.treemaker(galaxy=True, tm=tm, mode=mode)\n",
    "# tm = None\n",
    "\n",
    "path = \"./data/\"\n",
    "file_list = os.listdir(path)\n",
    "file_list = [file for file in file_list if (file.startswith(f\"Branch_{mode}\") & file.endswith(\".pickle\"))]"
   ]
  },
  {
   "cell_type": "code",
   "execution_count": 7,
   "metadata": {},
   "outputs": [
    {
     "data": {
      "text/plain": [
       "[]"
      ]
     },
     "execution_count": 7,
     "metadata": {},
     "output_type": "execute_result"
    }
   ],
   "source": [
    "file_list"
   ]
  },
  {
   "cell_type": "code",
   "execution_count": 75,
   "metadata": {},
   "outputs": [],
   "source": [
    "# gals = galtm.loadtree(168)\n",
    "# target = gals[np.random.randint(0, len(gals)-1,1)][0]\n",
    "# TMbranch = np.atleast_1d(return_branch(target, tm=galtm, usefat2=True))\n",
    "# plt.scatter(TMbranch['timestep'], TMbranch['m'], color='black' , label='TreeMaker', marker='o', alpha=0.5)"
   ]
  },
  {
   "cell_type": "code",
   "execution_count": 79,
   "metadata": {},
   "outputs": [
    {
     "data": {
      "text/plain": [
       "['Branch_y07206_00069.pickle']"
      ]
     },
     "execution_count": 79,
     "metadata": {},
     "output_type": "execute_result"
    }
   ],
   "source": [
    "file_list"
   ]
  },
  {
   "cell_type": "code",
   "execution_count": 80,
   "metadata": {},
   "outputs": [
    {
     "name": "stdout",
     "output_type": "stream",
     "text": [
      "[GalaxyMaker: hagn] ID=69, iout(istep)=187(162), logM=9.36\n"
     ]
    }
   ],
   "source": [
    "# file = file_list[np.random.randint(0, len(file_list)-1)]\n",
    "file = file_list[0]\n",
    "readme, target, elapsed, YTbranch, scores = jn.pklload(path+file)\n",
    "jn.printgal(target)\n",
    "TMbranch = np.atleast_1d(return_branch(target, tm=galtm, usefat2=True))\n",
    "YTbranch = np.hstack([item for key, item in YTbranch.items()])"
   ]
  },
  {
   "cell_type": "code",
   "execution_count": 81,
   "metadata": {},
   "outputs": [
    {
     "data": {
      "text/plain": [
       "(-0.01, 1.01)"
      ]
     },
     "execution_count": 81,
     "metadata": {},
     "output_type": "execute_result"
    },
    {
     "data": {
      "image/png": "[encoded data removed]",
      "text/plain": [
       "<Figure size 576x360 with 2 Axes>"
      ]
     },
     "metadata": {
      "needs_background": "light"
     },
     "output_type": "display_data"
    }
   ],
   "source": [
    "fig, ax = plt.subplots(figsize=(8,5))\n",
    "\n",
    "offset = np.max(YTbranch['timestep'])-168\n",
    "ax.plot(YTbranch['timestep']-offset, YTbranch['m'], color='magenta', label='YoungTree', marker='x', alpha=0.5)\n",
    "ax.scatter(TMbranch['timestep'], TMbranch['m'], color='black' , label='TreeMaker', marker='o', alpha=0.5)\n",
    "ax.set_yscale(\"log\")\n",
    "ax.legend()\n",
    "\n",
    "leng = min(len(TMbranch), len(YTbranch))\n",
    "x = YTbranch['timestep'][:leng]-offset\n",
    "match = (YTbranch['id'][:leng] - TMbranch['id'][:leng]) == 0\n",
    "ax2 = ax.twinx()\n",
    "ax2.fill_between(x,np.zeros(len(x)),match, color='black', alpha=0.1)\n",
    "ax2.set_ylim(-0.01, 1.01)"
   ]
  }
 ],
 "metadata": {
  "interpreter": {
   "hash": "928fe3b0bf83d1446d29d898280f37d3e1faf7b4f2cfa3ce909854a28f42a301"
  },
  "kernelspec": {
   "display_name": "Python 3.9.7 ('jeonpy': conda)",
   "language": "python",
   "name": "python3"
  },
  "language_info": {
   "codemirror_mode": {
    "name": "ipython",
    "version": 3
   },
   "file_extension": ".py",
   "mimetype": "text/x-python",
   "name": "python",
   "nbconvert_exporter": "python",
   "pygments_lexer": "ipython3",
   "version": "3.10.4"
  },
  "orig_nbformat": 4
 },
 "nbformat": 4,
 "nbformat_minor": 2
}
